{
 "cells": [
  {
   "cell_type": "code",
   "execution_count": 1,
   "metadata": {},
   "outputs": [
    {
     "data": {
      "text/plain": [
       "'C:\\\\Users\\\\isgm204\\\\Downloads\\\\Complete-Python-3-Bootcamp-master\\\\ProjectTest'"
      ]
     },
     "execution_count": 1,
     "metadata": {},
     "output_type": "execute_result"
    }
   ],
   "source": [
    "pwd"
   ]
  },
  {
   "cell_type": "code",
   "execution_count": 2,
   "metadata": {},
   "outputs": [],
   "source": [
    "f=open('practice.txt','w+')\n",
    "f.write('This is a test string')\n",
    "f.close()"
   ]
  },
  {
   "cell_type": "code",
   "execution_count": 3,
   "metadata": {},
   "outputs": [],
   "source": [
    "import os"
   ]
  },
  {
   "cell_type": "code",
   "execution_count": 4,
   "metadata": {},
   "outputs": [
    {
     "data": {
      "text/plain": [
       "'C:\\\\Users\\\\isgm204\\\\Downloads\\\\Complete-Python-3-Bootcamp-master\\\\ProjectTest'"
      ]
     },
     "execution_count": 4,
     "metadata": {},
     "output_type": "execute_result"
    }
   ],
   "source": [
    "os.getcwd()"
   ]
  },
  {
   "cell_type": "code",
   "execution_count": 7,
   "metadata": {},
   "outputs": [
    {
     "data": {
      "text/plain": [
       "['All Users',\n",
       " 'Default',\n",
       " 'Default User',\n",
       " 'desktop.ini',\n",
       " 'isgm154',\n",
       " 'isgm204',\n",
       " 'isgm341',\n",
       " 'isgm93',\n",
       " 'isgm93.ISGM',\n",
       " 'Public',\n",
       " 'test2']"
      ]
     },
     "execution_count": 7,
     "metadata": {},
     "output_type": "execute_result"
    }
   ],
   "source": [
    "os.listdir('C:\\\\Users')"
   ]
  },
  {
   "cell_type": "code",
   "execution_count": 8,
   "metadata": {},
   "outputs": [],
   "source": [
    "import shutil"
   ]
  },
  {
   "cell_type": "code",
   "execution_count": 10,
   "metadata": {},
   "outputs": [
    {
     "data": {
      "text/plain": [
       "'C:\\\\Users\\\\isgm204\\\\Downloads\\\\Complete-Python-3-Bootcamp-master\\\\practice.txt'"
      ]
     },
     "execution_count": 10,
     "metadata": {},
     "output_type": "execute_result"
    }
   ],
   "source": [
    "shutil.move('practice.txt','C:\\\\Users\\\\isgm204\\\\Downloads\\\\Complete-Python-3-Bootcamp-master')"
   ]
  },
  {
   "cell_type": "code",
   "execution_count": 11,
   "metadata": {},
   "outputs": [],
   "source": [
    "import send2trash"
   ]
  },
  {
   "cell_type": "code",
   "execution_count": 12,
   "metadata": {},
   "outputs": [
    {
     "data": {
      "text/plain": [
       "['.ipynb_checkpoints',\n",
       " 'osmodule.ipynb',\n",
       " 'Section10-Exception and Error Handling',\n",
       " 'Section12-Python Decorators',\n",
       " 'Section14-Advanced Python Modules',\n",
       " 'Section7-MileStoneProject-1',\n",
       " 'Section8-Object Oriented Programming',\n",
       " 'Untitled.ipynb']"
      ]
     },
     "execution_count": 12,
     "metadata": {},
     "output_type": "execute_result"
    }
   ],
   "source": [
    "os.listdir()"
   ]
  },
  {
   "cell_type": "code",
   "execution_count": 13,
   "metadata": {},
   "outputs": [],
   "source": [
    "send2trash.send2trash('practice.txt')"
   ]
  },
  {
   "cell_type": "code",
   "execution_count": 14,
   "metadata": {},
   "outputs": [
    {
     "data": {
      "text/plain": [
       "['.ipynb_checkpoints',\n",
       " 'osmodule.ipynb',\n",
       " 'Section10-Exception and Error Handling',\n",
       " 'Section12-Python Decorators',\n",
       " 'Section14-Advanced Python Modules',\n",
       " 'Section7-MileStoneProject-1',\n",
       " 'Section8-Object Oriented Programming',\n",
       " 'Untitled.ipynb']"
      ]
     },
     "execution_count": 14,
     "metadata": {},
     "output_type": "execute_result"
    }
   ],
   "source": [
    "os.listdir()"
   ]
  },
  {
   "cell_type": "code",
   "execution_count": 15,
   "metadata": {},
   "outputs": [],
   "source": [
    "send2trash.send2trash('Untitled.ipynb')"
   ]
  },
  {
   "cell_type": "code",
   "execution_count": 16,
   "metadata": {},
   "outputs": [
    {
     "data": {
      "text/plain": [
       "['.ipynb_checkpoints',\n",
       " 'osmodule.ipynb',\n",
       " 'Section10-Exception and Error Handling',\n",
       " 'Section12-Python Decorators',\n",
       " 'Section14-Advanced Python Modules',\n",
       " 'Section7-MileStoneProject-1',\n",
       " 'Section8-Object Oriented Programming']"
      ]
     },
     "execution_count": 16,
     "metadata": {},
     "output_type": "execute_result"
    }
   ],
   "source": [
    "os.listdir()"
   ]
  },
  {
   "cell_type": "code",
   "execution_count": 17,
   "metadata": {},
   "outputs": [],
   "source": [
    "file_path='C:\\\\Users\\\\isgm204\\\\Downloads\\\\Complete-Python-3-Bootcamp-master\\\\ProjectTest'"
   ]
  },
  {
   "cell_type": "code",
   "execution_count": 20,
   "metadata": {},
   "outputs": [
    {
     "name": "stdout",
     "output_type": "stream",
     "text": [
      "Currently looking at C:\\Users\\isgm204\\Downloads\\Complete-Python-3-Bootcamp-master\\ProjectTest\n",
      "\n",
      "\n",
      "The subfolders are:\n",
      "Subfolder: .ipynb_checkpoints\n",
      "Subfolder: Section10-Exception and Error Handling\n",
      "Subfolder: Section12-Python Decorators\n",
      "Subfolder: Section14-Advanced Python Modules\n",
      "Subfolder: Section7-MileStoneProject-1\n",
      "Subfolder: Section8-Object Oriented Programming\n",
      "\n",
      "\n",
      "the files are:\n",
      "\t File: osmodule.ipynb\n",
      "\n",
      "\n",
      "Currently looking at C:\\Users\\isgm204\\Downloads\\Complete-Python-3-Bootcamp-master\\ProjectTest\\.ipynb_checkpoints\n",
      "\n",
      "\n",
      "The subfolders are:\n",
      "\n",
      "\n",
      "the files are:\n",
      "\t File: MileStoneProj-1-checkpoint.ipynb\n",
      "\t File: MileStoneProject-1-checkpoint.ipynb\n",
      "\t File: osmodule-checkpoint.ipynb\n",
      "\t File: Python Collections Module-checkpoint.ipynb\n",
      "\t File: unittest-checkpoint.ipynb\n",
      "\t File: Untitled-checkpoint.ipynb\n",
      "\t File: WarmupProject-checkpoint.ipynb\n",
      "\n",
      "\n",
      "Currently looking at C:\\Users\\isgm204\\Downloads\\Complete-Python-3-Bootcamp-master\\ProjectTest\\Section10-Exception and Error Handling\n",
      "\n",
      "\n",
      "The subfolders are:\n",
      "\n",
      "\n",
      "the files are:\n",
      "\t File: Errors and Exceptions Homework - Solution.ipynb\n",
      "\t File: simple.py\n",
      "\t File: unittest.ipynb\n",
      "\n",
      "\n",
      "Currently looking at C:\\Users\\isgm204\\Downloads\\Complete-Python-3-Bootcamp-master\\ProjectTest\\Section12-Python Decorators\n",
      "\n",
      "\n",
      "The subfolders are:\n",
      "\n",
      "\n",
      "the files are:\n",
      "\t File: 01-Decorators.ipynb\n",
      "\n",
      "\n",
      "Currently looking at C:\\Users\\isgm204\\Downloads\\Complete-Python-3-Bootcamp-master\\ProjectTest\\Section14-Advanced Python Modules\n",
      "\n",
      "\n",
      "The subfolders are:\n",
      "\n",
      "\n",
      "the files are:\n",
      "\t File: Python Collections Module.ipynb\n",
      "\n",
      "\n",
      "Currently looking at C:\\Users\\isgm204\\Downloads\\Complete-Python-3-Bootcamp-master\\ProjectTest\\Section7-MileStoneProject-1\n",
      "\n",
      "\n",
      "The subfolders are:\n",
      "\n",
      "\n",
      "the files are:\n",
      "\t File: MileStoneProj-1.ipynb\n",
      "\t File: WarmupProject.ipynb\n",
      "\n",
      "\n",
      "Currently looking at C:\\Users\\isgm204\\Downloads\\Complete-Python-3-Bootcamp-master\\ProjectTest\\Section8-Object Oriented Programming\n",
      "\n",
      "\n",
      "The subfolders are:\n",
      "Subfolder: .ipynb_checkpoints\n",
      "\n",
      "\n",
      "the files are:\n",
      "\t File: Object Oriented Programming Homework - Solution.ipynb\n",
      "\t File: OOP Challenge - Solution.ipynb\n",
      "\n",
      "\n",
      "Currently looking at C:\\Users\\isgm204\\Downloads\\Complete-Python-3-Bootcamp-master\\ProjectTest\\Section8-Object Oriented Programming\\.ipynb_checkpoints\n",
      "\n",
      "\n",
      "The subfolders are:\n",
      "\n",
      "\n",
      "the files are:\n",
      "\t File: Object Oriented Programming Homework - Solution-checkpoint.ipynb\n",
      "\t File: OOP Challenge - Solution-checkpoint.ipynb\n",
      "\n",
      "\n"
     ]
    }
   ],
   "source": [
    "for folder,subfolders,files in os.walk(file_path):\n",
    "    print(f\"Currently looking at {folder}\")\n",
    "    print('\\n')\n",
    "    print('The subfolders are:')\n",
    "    for sub_fold in subfolders:\n",
    "        print(f\"Subfolder: {sub_fold}\")\n",
    "        \n",
    "    print('\\n')\n",
    "    print(\"the files are:\")\n",
    "    for f in files:\n",
    "        print(f\"\\t File: {f}\")\n",
    "    print(\"\\n\")"
   ]
  },
  {
   "cell_type": "code",
   "execution_count": null,
   "metadata": {},
   "outputs": [],
   "source": []
  }
 ],
 "metadata": {
  "kernelspec": {
   "display_name": "Python 3",
   "language": "python",
   "name": "python3"
  },
  "language_info": {
   "codemirror_mode": {
    "name": "ipython",
    "version": 3
   },
   "file_extension": ".py",
   "mimetype": "text/x-python",
   "name": "python",
   "nbconvert_exporter": "python",
   "pygments_lexer": "ipython3",
   "version": "3.7.3rc1"
  }
 },
 "nbformat": 4,
 "nbformat_minor": 4
}
